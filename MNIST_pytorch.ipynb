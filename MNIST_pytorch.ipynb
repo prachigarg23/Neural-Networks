{
 "cells": [
  {
   "cell_type": "markdown",
   "metadata": {},
   "source": [
    "## Training a classifier for MNIST dataset using pytorch"
   ]
  },
  {
   "cell_type": "code",
   "execution_count": 129,
   "metadata": {},
   "outputs": [],
   "source": [
    "import torch\n",
    "import torchvision\n",
    "import torchvision.transforms as transforms "
   ]
  },
  {
   "cell_type": "code",
   "execution_count": 130,
   "metadata": {},
   "outputs": [],
   "source": [
    "#dataset (Dataset) – dataset from which to load the data.\n",
    "#batch_size (int, optional) – how many samples per batch to load (default: 1).\n",
    "#shuffle (bool, optional) – set to True to have the data reshuffled at every epoch (default: False).\n",
    "#num_workers (int, optional) – how many subprocesses to use for data loading. 0 means that the data will be loaded in the main process. (default: 0)"
   ]
  },
  {
   "cell_type": "code",
   "execution_count": 131,
   "metadata": {},
   "outputs": [],
   "source": [
    "transform = transforms.ToTensor()\n",
    "trainset = torchvision.datasets.MNIST(root='/tmp', download=True, train=True, transform=transform)\n",
    "trainloader = torch.utils.data.DataLoader(trainset, batch_size=4, shuffle=True, num_workers=2)\n",
    "\n",
    "testset = torchvision.datasets.MNIST(root='/tmp', download=True, train=True, transform=transform)\n",
    "testloader = torch.utils.data.DataLoader(testset, batch_size=4, shuffle=True, num_workers=2)\n"
   ]
  },
  {
   "cell_type": "code",
   "execution_count": 132,
   "metadata": {},
   "outputs": [],
   "source": [
    "classes = [0, 1, 2, 3, 4, 5, 6, 7, 8, 9]"
   ]
  },
  {
   "cell_type": "code",
   "execution_count": 133,
   "metadata": {},
   "outputs": [],
   "source": [
    "import matplotlib.pyplot as plt\n",
    "import numpy as np"
   ]
  },
  {
   "cell_type": "code",
   "execution_count": 134,
   "metadata": {},
   "outputs": [
    {
     "name": "stdout",
     "output_type": "stream",
     "text": [
      "torch.Size([4, 1, 28, 28])\n",
      "7\n",
      "8\n",
      "4\n",
      "2\n"
     ]
    },
    {
     "data": {
      "image/png": "[encoded data removed]",
      "text/plain": [
       "<matplotlib.figure.Figure at 0x10cd8f390>"
      ]
     },
     "metadata": {},
     "output_type": "display_data"
    }
   ],
   "source": [
    "#visualising data \n",
    "def show(img):\n",
    "    npimg = img.numpy()\n",
    "    plt.imshow(np.transpose(npimg, (1, 2, 0)))\n",
    "\n",
    "dataiter = iter(trainloader)\n",
    "images, labels = dataiter.next()\n",
    "print(images.size())\n",
    "show(torchvision.utils.make_grid(images))\n",
    "\n",
    "for j in range(4):\n",
    "    print(classes[labels[j]])\n",
    "\n"
   ]
  },
  {
   "cell_type": "markdown",
   "metadata": {},
   "source": [
    "### ARTIFICIAL NEURAL NETWORK "
   ]
  },
  {
   "cell_type": "code",
   "execution_count": 104,
   "metadata": {},
   "outputs": [],
   "source": [
    "import torch.nn as nn\n",
    "import torch.nn.functional as F"
   ]
  },
  {
   "cell_type": "code",
   "execution_count": 138,
   "metadata": {},
   "outputs": [],
   "source": [
    "class SequentialMNIST(nn.Module):\n",
    "    def __init__(self):\n",
    "        super(SequentialMNIST, self).__init__()\n",
    "        self.linear1 = nn.Linear(28*28, 256)\n",
    "        self.linear2 = nn.Linear(256,10)\n",
    "        \n",
    "    def forward(self, x):\n",
    "        x = F.relu(self.linear1(x.view(4, -1)))\n",
    "        x = self.linear2(x)\n",
    "        return x\n",
    "\n",
    "net = SequentialMNIST()"
   ]
  },
  {
   "cell_type": "code",
   "execution_count": 139,
   "metadata": {},
   "outputs": [],
   "source": [
    "import torch.optim as optim\n",
    "\n",
    "#defining loss function \n",
    "criterion = nn.CrossEntropyLoss()\n",
    "optimizer = optim.SGD(net.parameters(), lr=0.001, momentum=0.9)"
   ]
  },
  {
   "cell_type": "code",
   "execution_count": 145,
   "metadata": {},
   "outputs": [
    {
     "name": "stdout",
     "output_type": "stream",
     "text": [
      "[1,  2000] loss: 0.00000\n",
      "[1,  4000] loss: 0.00003\n",
      "[1,  6000] loss: 0.00000\n",
      "[1,  8000] loss: 0.00000\n",
      "[1, 10000] loss: 0.00020\n",
      "[1, 12000] loss: 0.00000\n",
      "[1, 14000] loss: 0.00000\n",
      "[2,  2000] loss: 0.00000\n",
      "[2,  4000] loss: 0.00001\n",
      "[2,  6000] loss: 0.00001\n",
      "[2,  8000] loss: 0.00000\n",
      "[2, 10000] loss: 0.00000\n",
      "[2, 12000] loss: 0.00000\n",
      "[2, 14000] loss: 0.00001\n",
      "[3,  2000] loss: 0.00001\n",
      "[3,  4000] loss: 0.00000\n",
      "[3,  6000] loss: 0.00000\n",
      "[3,  8000] loss: 0.00000\n",
      "[3, 10000] loss: 0.00000\n",
      "[3, 12000] loss: 0.00000\n",
      "[3, 14000] loss: 0.00000\n",
      "[4,  2000] loss: 0.00000\n",
      "[4,  4000] loss: 0.00000\n",
      "[4,  6000] loss: 0.00000\n",
      "[4,  8000] loss: 0.00000\n",
      "[4, 10000] loss: 0.00000\n",
      "[4, 12000] loss: 0.00002\n",
      "[4, 14000] loss: 0.00000\n",
      "[5,  2000] loss: 0.00000\n",
      "[5,  4000] loss: 0.00000\n",
      "[5,  6000] loss: 0.00000\n",
      "[5,  8000] loss: 0.00003\n",
      "[5, 10000] loss: 0.00000\n",
      "[5, 12000] loss: 0.00000\n",
      "[5, 14000] loss: 0.00000\n",
      "[6,  2000] loss: 0.00000\n",
      "[6,  4000] loss: 0.00000\n",
      "[6,  6000] loss: 0.00000\n",
      "[6,  8000] loss: 0.00000\n",
      "[6, 10000] loss: 0.00000\n",
      "[6, 12000] loss: 0.00011\n",
      "[6, 14000] loss: 0.00000\n",
      "[7,  2000] loss: 0.00000\n",
      "[7,  4000] loss: 0.00000\n",
      "[7,  6000] loss: 0.00000\n",
      "[7,  8000] loss: 0.00000\n",
      "[7, 10000] loss: 0.00000\n",
      "[7, 12000] loss: 0.00000\n",
      "[7, 14000] loss: 0.00006\n",
      "[8,  2000] loss: 0.00000\n",
      "[8,  4000] loss: 0.00000\n",
      "[8,  6000] loss: 0.00000\n",
      "[8,  8000] loss: 0.00005\n",
      "[8, 10000] loss: 0.00000\n",
      "[8, 12000] loss: 0.00000\n",
      "[8, 14000] loss: 0.00001\n",
      "Finished Training\n"
     ]
    }
   ],
   "source": [
    "# training\n",
    "for epoch in range(8):\n",
    "    running_loss=0.0\n",
    "    for i, data in enumerate(trainloader): ###\n",
    "        inputs, labels = data\n",
    "        optimizer.zero_grad() ###\n",
    "\n",
    "        outputs = net(inputs)\n",
    "        loss = criterion(outputs, labels)\n",
    "        loss.backward()\n",
    "        optimizer.step()\n",
    "    \n",
    "        running_loss += loss.item()\n",
    "        if i%2000 == 1999:\n",
    "            print('[%d, %5d] loss: %.5f' % (epoch + 1, i + 1, running_loss / 2000))\n",
    "        running_loss = 0.0\n",
    "        \n",
    "print('Finished Training')"
   ]
  },
  {
   "cell_type": "code",
   "execution_count": 146,
   "metadata": {},
   "outputs": [
    {
     "name": "stdout",
     "output_type": "stream",
     "text": [
      "accuracy of network on 10000 test images: 99 \n"
     ]
    }
   ],
   "source": [
    "total = 0\n",
    "correct = 0\n",
    "with torch.no_grad():\n",
    "    for data in testloader:\n",
    "        inputs , labels = data\n",
    "        outputs = net(inputs)\n",
    "        total += labels.size(0)\n",
    "        _, predicted = torch.max(outputs.data, 1)\n",
    "        correct += (predicted==labels).sum().item()\n",
    "print('accuracy of network on 10000 test images: %d ' % (100*correct/total))"
   ]
  },
  {
   "cell_type": "code",
   "execution_count": null,
   "metadata": {},
   "outputs": [],
   "source": []
  },
  {
   "cell_type": "markdown",
   "metadata": {},
   "source": [
    "### CONVNET ON MNIST"
   ]
  },
  {
   "cell_type": "code",
   "execution_count": 160,
   "metadata": {},
   "outputs": [],
   "source": [
    "class ConvMNIST(nn.Module):\n",
    "    def __init__(self):\n",
    "        super(ConvMNIST, self).__init__()\n",
    "        self.conv1 = nn.Conv2d(1, 6, 5)\n",
    "        self.conv2 = nn.Conv2d(6, 16, 5)\n",
    "        self.fc1 = nn.Linear(16*4*4, 120)\n",
    "        self.fc2 = nn.Linear(120, 84)\n",
    "        self.fc3 = nn.Linear(84, 10)\n",
    "    \n",
    "    def forward(self, x):\n",
    "        x = F.max_pool2d(F.relu(self.conv1(x)), (2,2))\n",
    "        x = F.max_pool2d(F.relu(self.conv2(x)), 2)\n",
    "        x = F.relu(self.fc1(x.view(-1, 16*4*4)))\n",
    "        x = F.relu(self.fc2(x))\n",
    "        x = self.fc3(x)\n",
    "        return x\n",
    "convnet = ConvMNIST()"
   ]
  },
  {
   "cell_type": "code",
   "execution_count": 161,
   "metadata": {},
   "outputs": [
    {
     "name": "stdout",
     "output_type": "stream",
     "text": [
      "[1,  2000] loss: 0.00117\n",
      "[1,  4000] loss: 0.00114\n",
      "[1,  6000] loss: 0.00115\n",
      "[1,  8000] loss: 0.00113\n",
      "[1, 10000] loss: 0.00115\n",
      "[1, 12000] loss: 0.00116\n",
      "[1, 14000] loss: 0.00115\n",
      "[2,  2000] loss: 0.00116\n",
      "[2,  4000] loss: 0.00114\n",
      "[2,  6000] loss: 0.00115\n",
      "[2,  8000] loss: 0.00115\n",
      "[2, 10000] loss: 0.00116\n",
      "[2, 12000] loss: 0.00117\n",
      "[2, 14000] loss: 0.00117\n",
      "[3,  2000] loss: 0.00116\n",
      "[3,  4000] loss: 0.00113\n",
      "[3,  6000] loss: 0.00116\n",
      "[3,  8000] loss: 0.00114\n",
      "[3, 10000] loss: 0.00117\n",
      "[3, 12000] loss: 0.00114\n",
      "[3, 14000] loss: 0.00114\n",
      "[4,  2000] loss: 0.00113\n",
      "[4,  4000] loss: 0.00114\n",
      "[4,  6000] loss: 0.00118\n",
      "[4,  8000] loss: 0.00117\n",
      "[4, 10000] loss: 0.00116\n",
      "[4, 12000] loss: 0.00114\n",
      "[4, 14000] loss: 0.00117\n",
      "[5,  2000] loss: 0.00115\n",
      "[5,  4000] loss: 0.00115\n",
      "[5,  6000] loss: 0.00117\n",
      "[5,  8000] loss: 0.00114\n",
      "[5, 10000] loss: 0.00115\n",
      "[5, 12000] loss: 0.00113\n",
      "[5, 14000] loss: 0.00114\n",
      "[6,  2000] loss: 0.00118\n",
      "[6,  4000] loss: 0.00113\n",
      "[6,  6000] loss: 0.00117\n",
      "[6,  8000] loss: 0.00119\n",
      "[6, 10000] loss: 0.00115\n",
      "[6, 12000] loss: 0.00116\n",
      "[6, 14000] loss: 0.00116\n",
      "[7,  2000] loss: 0.00117\n",
      "[7,  4000] loss: 0.00114\n",
      "[7,  6000] loss: 0.00118\n",
      "[7,  8000] loss: 0.00118\n",
      "[7, 10000] loss: 0.00116\n",
      "[7, 12000] loss: 0.00113\n",
      "[7, 14000] loss: 0.00115\n",
      "[8,  2000] loss: 0.00114\n",
      "[8,  4000] loss: 0.00117\n",
      "[8,  6000] loss: 0.00114\n",
      "[8,  8000] loss: 0.00116\n",
      "[8, 10000] loss: 0.00117\n",
      "[8, 12000] loss: 0.00117\n",
      "[8, 14000] loss: 0.00118\n",
      "Finished Training\n"
     ]
    }
   ],
   "source": [
    "# training\n",
    "for epoch in range(8):\n",
    "    running_loss=0.0\n",
    "    for i, data in enumerate(trainloader): ###\n",
    "        inputs, labels = data\n",
    "        optimizer.zero_grad() ###\n",
    "\n",
    "        outputs = convnet(inputs)\n",
    "        loss = criterion(outputs, labels)\n",
    "        loss.backward()\n",
    "        optimizer.step()\n",
    "    \n",
    "        running_loss += loss.item()\n",
    "        if i%2000 == 1999:\n",
    "            print('[%d, %5d] loss: %.5f' % (epoch + 1, i + 1, running_loss / 2000))\n",
    "        running_loss = 0.0\n",
    "        \n",
    "print('Finished Training')"
   ]
  },
  {
   "cell_type": "code",
   "execution_count": 163,
   "metadata": {},
   "outputs": [
    {
     "name": "stdout",
     "output_type": "stream",
     "text": [
      "accuracy of network on 10000 test images: 9 \n"
     ]
    }
   ],
   "source": [
    "total = 0\n",
    "correct = 0\n",
    "with torch.no_grad():\n",
    "    for data in testloader:\n",
    "        inputs , labels = data\n",
    "        outputs = convnet(inputs)\n",
    "        total += labels.size(0)\n",
    "        _, predicted = torch.max(outputs.data, 1)\n",
    "        correct += (predicted==labels).sum().item()\n",
    "print('accuracy of network on 10000 test images: %d ' % (100*correct/total))"
   ]
  },
  {
   "cell_type": "code",
   "execution_count": null,
   "metadata": {},
   "outputs": [],
   "source": []
  }
 ],
 "metadata": {
  "kernelspec": {
   "display_name": "Python 3",
   "language": "python",
   "name": "python3"
  },
  "language_info": {
   "codemirror_mode": {
    "name": "ipython",
    "version": 3
   },
   "file_extension": ".py",
   "mimetype": "text/x-python",
   "name": "python",
   "nbconvert_exporter": "python",
   "pygments_lexer": "ipython3",
   "version": "3.6.4"
  }
 },
 "nbformat": 4,
 "nbformat_minor": 2
}
