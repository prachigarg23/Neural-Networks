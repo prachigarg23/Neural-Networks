{
 "cells": [
  {
   "cell_type": "code",
   "execution_count": 16,
   "metadata": {},
   "outputs": [],
   "source": [
    "# a simple neural network implementation using numpy \n",
    "# the aim is to understand forward and backward propagation in the neural network and how that is \n",
    "# being used to find the errors which are optimized to get suitable weights"
   ]
  },
  {
   "cell_type": "code",
   "execution_count": 4,
   "metadata": {},
   "outputs": [],
   "source": [
    "import numpy as np"
   ]
  },
  {
   "cell_type": "code",
   "execution_count": 5,
   "metadata": {},
   "outputs": [],
   "source": [
    "def sig(z):\n",
    "    return 1/(1 + np.exp(-z))"
   ]
  },
  {
   "cell_type": "code",
   "execution_count": 6,
   "metadata": {},
   "outputs": [],
   "source": [
    "def deriv_sig(z):\n",
    "    return sig(z)*(1-sig(z))"
   ]
  },
  {
   "cell_type": "code",
   "execution_count": 7,
   "metadata": {},
   "outputs": [],
   "source": [
    "# training data: \n",
    "X = np.array([[1,0,1], [0,1,1], [1,1,1], [0,0,1]])\n",
    "y = np.array([[1,0,0,1]])#y_actual\n",
    "y = y.T\n",
    "l_rate = 0.2"
   ]
  },
  {
   "cell_type": "raw",
   "metadata": {},
   "source": [
    "#input layer 3 neurons \n",
    "#including a hidden layer of 4 neurons\n",
    "#single output \n",
    "#4 training examples "
   ]
  },
  {
   "cell_type": "code",
   "execution_count": 8,
   "metadata": {},
   "outputs": [],
   "source": [
    "weight0 = 2*np.random.rand(3,4) - 1   #btw input and hidden \n",
    "weight1 = 2*np.random.rand(4,1) - 1   #btw hidden and output layer "
   ]
  },
  {
   "cell_type": "code",
   "execution_count": 9,
   "metadata": {},
   "outputs": [
    {
     "name": "stdout",
     "output_type": "stream",
     "text": [
      "[[0.98523619]\n",
      " [0.00660739]\n",
      " [0.01126959]\n",
      " [0.98589325]]\n"
     ]
    }
   ],
   "source": [
    "for i in range(1500):\n",
    "    #forward prop\n",
    "    layer0 = X\n",
    "    layer1 = sig(np.dot(layer0, weight0))\n",
    "    layer2 = sig(np.dot(layer1, weight1))\n",
    "    #backprop\n",
    "    l2_delta = layer2 - y\n",
    "    l2_delta = l2_delta * deriv_sig(layer2)\n",
    "    net_error2 = np.dot(layer1.T, l2_delta)\n",
    "    # we transpose the layer1 as we have to cummulate the total errors due to all the training examples\n",
    "    l1_delta = np.dot(l2_delta, weight1.T)\n",
    "    l1_delta = l1_delta*deriv_sig(layer1)\n",
    "    net_error1 = np.dot(layer0.T, l1_delta)\n",
    "    #weights updation \n",
    "    weight0 = weight0 - l_rate*net_error1\n",
    "    weight1 = weight1 - l_rate*net_error2\n",
    "#answer prediction \n",
    "layer0 = X\n",
    "layer1 = sig(np.dot(layer0, weight0))\n",
    "layer2 = sig(np.dot(layer1, weight1))\n",
    "print(layer2)"
   ]
  },
  {
   "cell_type": "code",
   "execution_count": 10,
   "metadata": {},
   "outputs": [],
   "source": [
    "# test data\n",
    "X_test = np.array([[0,1,1],[1,0,1],[1,1,1],[0,0,1]])\n",
    "Y_test = np.array([[0,1,0,1]])\n",
    "Y_test = Y_test.T"
   ]
  },
  {
   "cell_type": "code",
   "execution_count": 11,
   "metadata": {},
   "outputs": [
    {
     "data": {
      "text/plain": [
       "[0, 1, 0, 1]"
      ]
     },
     "execution_count": 11,
     "metadata": {},
     "output_type": "execute_result"
    }
   ],
   "source": [
    "#testing \n",
    "tlayer0 = X_test\n",
    "tlayer1 = sig(np.dot(tlayer0, weight0))\n",
    "tlayer2 = sig(np.dot(tlayer1, weight1))\n",
    "predicted = []\n",
    "for i in tlayer2:\n",
    "    if i>=0.5:\n",
    "        predicted.append(1)\n",
    "    else:\n",
    "        predicted.append(0)\n",
    "predicted"
   ]
  },
  {
   "cell_type": "code",
   "execution_count": null,
   "metadata": {},
   "outputs": [],
   "source": []
  }
 ],
 "metadata": {
  "kernelspec": {
   "display_name": "Python 3",
   "language": "python",
   "name": "python3"
  },
  "language_info": {
   "codemirror_mode": {
    "name": "ipython",
    "version": 3
   },
   "file_extension": ".py",
   "mimetype": "text/x-python",
   "name": "python",
   "nbconvert_exporter": "python",
   "pygments_lexer": "ipython3",
   "version": "3.6.4"
  }
 },
 "nbformat": 4,
 "nbformat_minor": 2
}
