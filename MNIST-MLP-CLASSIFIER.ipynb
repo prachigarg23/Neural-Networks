{
 "cells": [
  {
   "cell_type": "markdown",
   "metadata": {},
   "source": [
    "COMPARING PERFORMANCE OF MLP CLASSIFIER AND LOGISTIC REGRESSION CLASSIFIER ON MNIST DATASET"
   ]
  },
  {
   "cell_type": "code",
   "execution_count": 56,
   "metadata": {},
   "outputs": [],
   "source": [
    "from sklearn.neural_network import MLPClassifier\n",
    "import numpy as np"
   ]
  },
  {
   "cell_type": "code",
   "execution_count": 57,
   "metadata": {},
   "outputs": [],
   "source": [
    "x = np.array([[0,0], [1,0], [0,1], [1,1], [1,1], [1,0], [0,0],[0,1]])"
   ]
  },
  {
   "cell_type": "code",
   "execution_count": 58,
   "metadata": {},
   "outputs": [],
   "source": [
    "y = np.array([0,1,1,0,0,1,0,1])"
   ]
  },
  {
   "cell_type": "code",
   "execution_count": 63,
   "metadata": {},
   "outputs": [
    {
     "name": "stderr",
     "output_type": "stream",
     "text": [
      "/Users/prachigarg/anaconda3/lib/python3.6/site-packages/sklearn/neural_network/multilayer_perceptron.py:564: ConvergenceWarning: Stochastic Optimizer: Maximum iterations (200) reached and the optimization hasn't converged yet.\n",
      "  % self.max_iter, ConvergenceWarning)\n"
     ]
    },
    {
     "data": {
      "text/plain": [
       "MLPClassifier(activation='relu', alpha=0.0001, batch_size='auto', beta_1=0.9,\n",
       "       beta_2=0.999, early_stopping=False, epsilon=1e-08,\n",
       "       hidden_layer_sizes=10, learning_rate='constant',\n",
       "       learning_rate_init=0.001, max_iter=200, momentum=0.9,\n",
       "       nesterovs_momentum=True, power_t=0.5, random_state=None,\n",
       "       shuffle=True, solver='adam', tol=0.0001, validation_fraction=0.1,\n",
       "       verbose=False, warm_start=False)"
      ]
     },
     "execution_count": 63,
     "metadata": {},
     "output_type": "execute_result"
    }
   ],
   "source": [
    "mlp = MLPClassifier(activation='relu', hidden_layer_sizes=(10))\n",
    "mlp.fit(x, y)"
   ]
  },
  {
   "cell_type": "code",
   "execution_count": 64,
   "metadata": {},
   "outputs": [
    {
     "data": {
      "text/plain": [
       "array([1, 1, 0, 0])"
      ]
     },
     "execution_count": 64,
     "metadata": {},
     "output_type": "execute_result"
    }
   ],
   "source": [
    "z = np.array([[1,0],[0,1],[0,0], [1,1]])\n",
    "y_test = np.array([1, 1, 0, 0])\n",
    "mlp.predict(z)"
   ]
  },
  {
   "cell_type": "code",
   "execution_count": 65,
   "metadata": {},
   "outputs": [
    {
     "data": {
      "text/plain": [
       "{'activation': 'relu',\n",
       " 'alpha': 0.0001,\n",
       " 'batch_size': 'auto',\n",
       " 'beta_1': 0.9,\n",
       " 'beta_2': 0.999,\n",
       " 'early_stopping': False,\n",
       " 'epsilon': 1e-08,\n",
       " 'hidden_layer_sizes': 10,\n",
       " 'learning_rate': 'constant',\n",
       " 'learning_rate_init': 0.001,\n",
       " 'max_iter': 200,\n",
       " 'momentum': 0.9,\n",
       " 'nesterovs_momentum': True,\n",
       " 'power_t': 0.5,\n",
       " 'random_state': None,\n",
       " 'shuffle': True,\n",
       " 'solver': 'adam',\n",
       " 'tol': 0.0001,\n",
       " 'validation_fraction': 0.1,\n",
       " 'verbose': False,\n",
       " 'warm_start': False}"
      ]
     },
     "execution_count": 65,
     "metadata": {},
     "output_type": "execute_result"
    }
   ],
   "source": [
    "mlp.get_params()"
   ]
  },
  {
   "cell_type": "code",
   "execution_count": 66,
   "metadata": {},
   "outputs": [
    {
     "data": {
      "text/plain": [
       "1.0"
      ]
     },
     "execution_count": 66,
     "metadata": {},
     "output_type": "execute_result"
    }
   ],
   "source": [
    "mlp.score(z, y_test)"
   ]
  },
  {
   "cell_type": "code",
   "execution_count": 67,
   "metadata": {},
   "outputs": [],
   "source": [
    "from sklearn import datasets"
   ]
  },
  {
   "cell_type": "code",
   "execution_count": 68,
   "metadata": {},
   "outputs": [],
   "source": [
    "mnist = datasets.load_digits()"
   ]
  },
  {
   "cell_type": "code",
   "execution_count": 69,
   "metadata": {},
   "outputs": [
    {
     "data": {
      "text/plain": [
       "array([0, 1, 2, 3, 4, 5, 6, 7, 8, 9])"
      ]
     },
     "execution_count": 69,
     "metadata": {},
     "output_type": "execute_result"
    }
   ],
   "source": [
    "mnist.target_names"
   ]
  },
  {
   "cell_type": "code",
   "execution_count": 86,
   "metadata": {},
   "outputs": [],
   "source": [
    "from sklearn.model_selection import train_test_split\n",
    "X_train, X_test, Y_train, Y_test = train_test_split(mnist.data, mnist.target, test_size=0.3)"
   ]
  },
  {
   "cell_type": "code",
   "execution_count": 100,
   "metadata": {},
   "outputs": [
    {
     "name": "stderr",
     "output_type": "stream",
     "text": [
      "/Users/prachigarg/anaconda3/lib/python3.6/site-packages/sklearn/neural_network/multilayer_perceptron.py:564: ConvergenceWarning: Stochastic Optimizer: Maximum iterations (200) reached and the optimization hasn't converged yet.\n",
      "  % self.max_iter, ConvergenceWarning)\n"
     ]
    },
    {
     "data": {
      "text/plain": [
       "MLPClassifier(activation='relu', alpha=0.0001, batch_size='auto', beta_1=0.9,\n",
       "       beta_2=0.999, early_stopping=False, epsilon=1e-08,\n",
       "       hidden_layer_sizes=10, learning_rate='constant',\n",
       "       learning_rate_init=0.001, max_iter=200, momentum=0.9,\n",
       "       nesterovs_momentum=True, power_t=0.5, random_state=None,\n",
       "       shuffle=True, solver='adam', tol=0.0001, validation_fraction=0.1,\n",
       "       verbose=False, warm_start=False)"
      ]
     },
     "execution_count": 100,
     "metadata": {},
     "output_type": "execute_result"
    }
   ],
   "source": [
    "mlp2 = MLPClassifier(activation='relu', hidden_layer_sizes = (110))\n",
    "mlp.fit(X_train, Y_train)"
   ]
  },
  {
   "cell_type": "code",
   "execution_count": 101,
   "metadata": {},
   "outputs": [],
   "source": [
    "#mlp.predict(X_test)"
   ]
  },
  {
   "cell_type": "code",
   "execution_count": 102,
   "metadata": {},
   "outputs": [
    {
     "data": {
      "text/plain": [
       "0.9351851851851852"
      ]
     },
     "execution_count": 102,
     "metadata": {},
     "output_type": "execute_result"
    }
   ],
   "source": [
    "#print(Y_test)\n",
    "mlp.score(X_test, Y_test)"
   ]
  },
  {
   "cell_type": "code",
   "execution_count": 103,
   "metadata": {},
   "outputs": [],
   "source": [
    "from sklearn.linear_model import LogisticRegression\n",
    "logistic = LogisticRegression()"
   ]
  },
  {
   "cell_type": "code",
   "execution_count": 104,
   "metadata": {},
   "outputs": [
    {
     "data": {
      "text/plain": [
       "LogisticRegression(C=1.0, class_weight=None, dual=False, fit_intercept=True,\n",
       "          intercept_scaling=1, max_iter=100, multi_class='ovr', n_jobs=1,\n",
       "          penalty='l2', random_state=None, solver='liblinear', tol=0.0001,\n",
       "          verbose=0, warm_start=False)"
      ]
     },
     "execution_count": 104,
     "metadata": {},
     "output_type": "execute_result"
    }
   ],
   "source": [
    "logistic.fit(X_train, Y_train)"
   ]
  },
  {
   "cell_type": "code",
   "execution_count": 105,
   "metadata": {},
   "outputs": [
    {
     "data": {
      "text/plain": [
       "array([1, 8, 0, 9, 2, 0, 1, 1, 1, 9, 4, 4, 2, 3, 2, 1, 4, 9, 1, 4, 3, 8,\n",
       "       5, 3, 2, 4, 0, 6, 3, 0, 0, 3, 7, 2, 2, 5, 3, 1, 1, 6, 3, 7, 7, 9,\n",
       "       8, 8, 9, 0, 6, 4, 2, 8, 6, 0, 5, 3, 7, 2, 8, 1, 3, 4, 0, 8, 4, 0,\n",
       "       5, 2, 0, 4, 8, 2, 0, 8, 2, 0, 3, 7, 3, 4, 3, 0, 8, 9, 1, 8, 1, 1,\n",
       "       6, 6, 9, 6, 0, 0, 7, 2, 4, 0, 3, 3, 3, 3, 2, 8, 8, 0, 1, 9, 5, 5,\n",
       "       8, 1, 2, 0, 4, 7, 1, 9, 4, 3, 1, 3, 1, 7, 1, 6, 9, 0, 0, 9, 4, 5,\n",
       "       1, 9, 2, 7, 1, 7, 1, 9, 4, 4, 6, 5, 7, 1, 1, 6, 6, 6, 5, 4, 0, 6,\n",
       "       2, 3, 2, 0, 7, 3, 3, 2, 3, 5, 9, 1, 5, 4, 9, 8, 3, 1, 2, 1, 0, 4,\n",
       "       4, 2, 4, 9, 8, 3, 2, 3, 2, 2, 7, 5, 7, 9, 8, 0, 2, 2, 2, 7, 9, 6,\n",
       "       8, 1, 9, 2, 9, 8, 8, 6, 5, 6, 4, 4, 0, 6, 1, 8, 7, 2, 9, 6, 6, 6,\n",
       "       2, 2, 2, 0, 3, 8, 8, 8, 1, 2, 9, 6, 4, 7, 2, 8, 6, 8, 2, 7, 2, 8,\n",
       "       6, 7, 4, 4, 2, 9, 9, 7, 4, 9, 0, 6, 5, 5, 0, 3, 7, 3, 8, 1, 3, 8,\n",
       "       0, 1, 6, 8, 1, 9, 6, 1, 2, 9, 7, 6, 2, 8, 5, 8, 2, 9, 7, 1, 5, 8,\n",
       "       1, 2, 6, 2, 2, 3, 6, 0, 1, 2, 9, 3, 8, 1, 5, 1, 1, 6, 5, 0, 7, 5,\n",
       "       5, 7, 2, 5, 2, 2, 0, 5, 8, 9, 2, 2, 9, 5, 4, 0, 5, 2, 1, 0, 6, 8,\n",
       "       5, 1, 3, 9, 4, 9, 1, 2, 6, 8, 6, 6, 5, 4, 9, 1, 1, 0, 3, 4, 1, 8,\n",
       "       7, 4, 8, 5, 8, 5, 1, 9, 0, 7, 3, 4, 8, 5, 5, 3, 4, 5, 7, 5, 8, 6,\n",
       "       4, 6, 4, 2, 5, 6, 8, 6, 8, 4, 7, 8, 4, 2, 5, 9, 3, 6, 7, 2, 7, 8,\n",
       "       4, 0, 6, 9, 3, 4, 4, 3, 1, 1, 6, 5, 2, 9, 5, 5, 0, 5, 4, 0, 6, 2,\n",
       "       8, 6, 1, 5, 0, 6, 1, 1, 3, 0, 2, 5, 5, 5, 9, 4, 2, 8, 8, 7, 4, 4,\n",
       "       1, 0, 9, 7, 7, 2, 0, 0, 0, 7, 9, 3, 9, 6, 0, 0, 7, 7, 7, 2, 1, 6,\n",
       "       6, 4, 8, 3, 5, 8, 0, 0, 4, 0, 2, 1, 9, 9, 6, 0, 5, 8, 9, 0, 4, 8,\n",
       "       4, 7, 5, 1, 8, 8, 9, 9, 7, 8, 4, 3, 2, 0, 3, 9, 9, 1, 1, 2, 8, 9,\n",
       "       6, 7, 1, 3, 8, 5, 1, 0, 9, 4, 3, 0, 9, 1, 2, 4, 9, 4, 3, 4, 9, 2,\n",
       "       8, 4, 9, 9, 7, 8, 4, 0, 0, 1, 8, 6])"
      ]
     },
     "execution_count": 105,
     "metadata": {},
     "output_type": "execute_result"
    }
   ],
   "source": [
    "logistic.predict(X_test)"
   ]
  },
  {
   "cell_type": "code",
   "execution_count": 106,
   "metadata": {},
   "outputs": [
    {
     "data": {
      "text/plain": [
       "0.9666666666666667"
      ]
     },
     "execution_count": 106,
     "metadata": {},
     "output_type": "execute_result"
    }
   ],
   "source": [
    "logistic.score(X_test, Y_test)"
   ]
  },
  {
   "cell_type": "code",
   "execution_count": 108,
   "metadata": {},
   "outputs": [],
   "source": [
    "#LOGISTIC REGRESSION PERFORMS BETTER "
   ]
  },
  {
   "cell_type": "code",
   "execution_count": null,
   "metadata": {},
   "outputs": [],
   "source": []
  }
 ],
 "metadata": {
  "kernelspec": {
   "display_name": "Python 3",
   "language": "python",
   "name": "python3"
  },
  "language_info": {
   "codemirror_mode": {
    "name": "ipython",
    "version": 3
   },
   "file_extension": ".py",
   "mimetype": "text/x-python",
   "name": "python",
   "nbconvert_exporter": "python",
   "pygments_lexer": "ipython3",
   "version": "3.6.4"
  }
 },
 "nbformat": 4,
 "nbformat_minor": 2
}
