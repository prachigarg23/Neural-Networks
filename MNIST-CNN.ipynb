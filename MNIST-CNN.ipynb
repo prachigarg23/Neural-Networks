{
 "cells": [
  {
   "cell_type": "markdown",
   "metadata": {},
   "source": [
    "### Training a convolutional neural network on MNIST dataset "
   ]
  },
  {
   "cell_type": "code",
   "execution_count": 3,
   "metadata": {},
   "outputs": [],
   "source": [
    "import tensorflow as tf"
   ]
  },
  {
   "cell_type": "code",
   "execution_count": 6,
   "metadata": {},
   "outputs": [
    {
     "name": "stdout",
     "output_type": "stream",
     "text": [
      "Successfully downloaded train-images-idx3-ubyte.gz 9912422 bytes.\n",
      "Extracting MNIST_data/train-images-idx3-ubyte.gz\n",
      "Successfully downloaded train-labels-idx1-ubyte.gz 28881 bytes.\n",
      "Extracting MNIST_data/train-labels-idx1-ubyte.gz\n",
      "Successfully downloaded t10k-images-idx3-ubyte.gz 1648877 bytes.\n",
      "Extracting MNIST_data/t10k-images-idx3-ubyte.gz\n",
      "Successfully downloaded t10k-labels-idx1-ubyte.gz 4542 bytes.\n",
      "Extracting MNIST_data/t10k-labels-idx1-ubyte.gz\n"
     ]
    }
   ],
   "source": [
    "from tensorflow.examples.tutorials.mnist import input_data\n",
    "mnist = input_data.read_data_sets(\"MNIST_data/\", one_hot = True)"
   ]
  },
  {
   "cell_type": "markdown",
   "metadata": {},
   "source": [
    "The network I plan to build is as follows: \n",
    "<br>\n",
    "*input images* --> 748 pixels or 28x28 pixel images\n",
    "<br>\n",
    "*filters* = 5x5\n",
    "<br>\n",
    "*stride* = 1\n",
    "<br>\n",
    "*padding* = same\n",
    "<br>\n",
    "since padding is same and stride 1, after every convolution the width and height of a layer remians same\n",
    "<br>\n",
    "the only way the dimensions get reduced is by max pooling\n",
    "<br>\n",
    "*pooling window size* = 2\n",
    "<br>\n",
    "for each example:\n",
    "<br>\n",
    "<br>\n",
    "<font color=red>**28x28x1 --5x5x1x32--> 28x28x32 --max-pooling--> 14x14x32 --5x5x32x64--> 14x14x64 --max-pooling--> 7x7x64 ---> 1024(hidden_layer) ----> 10(out_layer)**</font>"
   ]
  },
  {
   "cell_type": "code",
   "execution_count": 17,
   "metadata": {},
   "outputs": [],
   "source": [
    "# we design a CNN with 2 convolutional layers and a hidden layer\n",
    "n_input = 784\n",
    "input_h = 28\n",
    "input_w = 28\n",
    "channels = 1\n",
    "n_conv1 = 32\n",
    "n_conv2 = 64 \n",
    "# these are the number of filters in the convolutional layers\n",
    "conv1_k = 5\n",
    "conv2_k = 5\n",
    "n_hidden = 1024\n",
    "n_out = 10\n",
    "pooling_window = 2"
   ]
  },
  {
   "cell_type": "code",
   "execution_count": 18,
   "metadata": {},
   "outputs": [],
   "source": [
    "# declaring global variables\n",
    "weights = {\n",
    "    'wc1': tf.Variable(tf.random_normal([conv1_k, conv1_k, channels, n_conv1])),\n",
    "    'wc2': tf.Variable(tf.random_normal([conv2_k, conv2_k, n_conv1, n_conv2])),\n",
    "    'wh1': tf.Variable(tf.random_normal([input_h//4*input_w//4*n_conv2,n_hidden])),\n",
    "    'out': tf.Variable(tf.random_normal([n_hidden, n_out]))\n",
    "}\n",
    "\n",
    "biases = {\n",
    "    'bc1': tf.Variable(tf.random_normal([n_conv1])),\n",
    "    'bc2': tf.Variable(tf.random_normal([n_conv2])),\n",
    "    'bh1': tf.Variable(tf.random_normal([n_hidden])),\n",
    "    'out': tf.Variable(tf.random_normal([n_out]))\n",
    "}"
   ]
  },
  {
   "cell_type": "code",
   "execution_count": 23,
   "metadata": {},
   "outputs": [],
   "source": [
    "def conv(x, weights, bias, strides=1):\n",
    "    out = tf.nn.conv2d(x, weights, padding = 'SAME', strides = [1,strides,strides,1])\n",
    "    out = tf.nn.bias_add(out, bias)\n",
    "    return tf.nn.relu(out)     \n",
    "    \n",
    "def max_pooling(x, k=2):\n",
    "    return tf.nn.max_pool(x, padding='SAME', ksize=[1,k,k,1], strides=[1,k,k,1])   "
   ]
  },
  {
   "cell_type": "code",
   "execution_count": 24,
   "metadata": {},
   "outputs": [],
   "source": [
    "def cnn(x, weights, biases):\n",
    "    x = tf.reshape(x, shape=[-1, input_h, input_w, 1])\n",
    "    # reshaped the 784 feature input to be 28x28\n",
    "    # 1st convolutional layer\n",
    "    conv1 = conv(x, weights['wc1'], biases['bc1'])\n",
    "    conv1 = max_pooling(conv1, pooling_window)\n",
    "    \n",
    "    # 2nd convolutional layer\n",
    "    conv2 = conv(conv1, weights['wc2'], biases['bc2'])\n",
    "    conv2 = max_pooling(conv2, pooling_window)\n",
    "    \n",
    "    # we reshape 7x7x64 so that it can be multiplied by the weights joining it to the \n",
    "    # hidden layer(each pixel will have a separate weight connecting it to the hidden layer)\n",
    "    hidden_input = tf.reshape(conv2, shape = [-1, input_h//4*input_w//4*n_conv2])\n",
    "    hidden_out = tf.add(tf.matmul(hidden_input, weights['wh1']), biases['bh1'])\n",
    "    hidden_out = tf.nn.relu(hidden_out)\n",
    "    \n",
    "    # outer layer \n",
    "    out = tf.add(tf.matmul(hidden_out, weights['out']), biases['out'])\n",
    "    return out"
   ]
  },
  {
   "cell_type": "code",
   "execution_count": 25,
   "metadata": {},
   "outputs": [
    {
     "data": {
      "text/plain": [
       "<tf.Tensor 'Add_1:0' shape=(?, 10) dtype=float32>"
      ]
     },
     "execution_count": 25,
     "metadata": {},
     "output_type": "execute_result"
    }
   ],
   "source": [
    "x = tf.placeholder('float', [None, n_input])\n",
    "y = tf.placeholder('float', [None, n_out])\n",
    "pred = cnn(x, weights, biases)\n",
    "pred"
   ]
  },
  {
   "cell_type": "code",
   "execution_count": 28,
   "metadata": {},
   "outputs": [
    {
     "name": "stdout",
     "output_type": "stream",
     "text": [
      "WARNING:tensorflow:From <ipython-input-28-665df8ff17c1>:1: softmax_cross_entropy_with_logits (from tensorflow.python.ops.nn_ops) is deprecated and will be removed in a future version.\n",
      "Instructions for updating:\n",
      "\n",
      "Future major versions of TensorFlow will allow gradients to flow\n",
      "into the labels input on backprop by default.\n",
      "\n",
      "See tf.nn.softmax_cross_entropy_with_logits_v2.\n",
      "\n"
     ]
    }
   ],
   "source": [
    "cost = tf.reduce_mean(tf.nn.softmax_cross_entropy_with_logits(logits=pred, labels=y))\n",
    "optimizer = tf.train.AdamOptimizer(learning_rate=0.01).minimize(cost)"
   ]
  },
  {
   "cell_type": "code",
   "execution_count": 29,
   "metadata": {},
   "outputs": [],
   "source": [
    "sess = tf.Session()\n",
    "init = tf.global_variables_initializer()\n",
    "sess.run(init)"
   ]
  },
  {
   "cell_type": "code",
   "execution_count": 31,
   "metadata": {},
   "outputs": [
    {
     "name": "stdout",
     "output_type": "stream",
     "text": [
      "1377615.489714384\n",
      "34864.78751116991\n",
      "21688.614163067497\n",
      "16270.202837093324\n",
      "14160.842768996552\n",
      "12438.837339997292\n",
      "11719.354070261064\n",
      "10253.592679539022\n",
      "9501.334009983439\n",
      "8141.805627436638\n"
     ]
    }
   ],
   "source": [
    "batch_size = 100\n",
    "for i in range(10):\n",
    "    num_batches = int(mnist.train.num_examples/batch_size)\n",
    "    total_cost = 0\n",
    "    for j in range(num_batches):\n",
    "        batch_x, batch_y = mnist.train.next_batch(batch_size)\n",
    "        _ , c = sess.run([optimizer, cost], feed_dict={x:batch_x, y:batch_y})\n",
    "        total_cost += c\n",
    "    print(total_cost)"
   ]
  },
  {
   "cell_type": "code",
   "execution_count": 34,
   "metadata": {},
   "outputs": [],
   "source": [
    "predictions = tf.argmax(pred,1)\n",
    "correct_labels = tf.argmax(y,1)\n",
    "correct_predictions = tf.equal(predictions, correct_labels)\n",
    "predictions,correct_predictions  = sess.run([predictions, correct_predictions], feed_dict={x:mnist.test.images,\n",
    "                                              y:mnist.test.labels})"
   ]
  },
  {
   "cell_type": "code",
   "execution_count": 37,
   "metadata": {},
   "outputs": [
    {
     "name": "stdout",
     "output_type": "stream",
     "text": [
      "192\n",
      "0.9808\n"
     ]
    }
   ],
   "source": [
    "p = (correct_predictions == False).sum()\n",
    "print(p)\n",
    "accuracy = 1 - p/len(correct_predictions)\n",
    "print(accuracy)"
   ]
  },
  {
   "cell_type": "code",
   "execution_count": null,
   "metadata": {},
   "outputs": [],
   "source": []
  }
 ],
 "metadata": {
  "kernelspec": {
   "display_name": "Python 3",
   "language": "python",
   "name": "python3"
  },
  "language_info": {
   "codemirror_mode": {
    "name": "ipython",
    "version": 3
   },
   "file_extension": ".py",
   "mimetype": "text/x-python",
   "name": "python",
   "nbconvert_exporter": "python",
   "pygments_lexer": "ipython3",
   "version": "3.6.4"
  }
 },
 "nbformat": 4,
 "nbformat_minor": 2
}
